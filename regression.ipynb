{
 "cells": [
  {
   "cell_type": "code",
   "execution_count": 1,
   "id": "1eb97e47",
   "metadata": {},
   "outputs": [],
   "source": [
    "import numpy as np\n",
    "import pandas as pd\n",
    "from sklearn.linear_model import Ridge\n",
    "from sklearn.model_selection import train_test_split, GridSearchCV\n",
    "from sklearn.metrics import mean_squared_error"
   ]
  },
  {
   "cell_type": "code",
   "execution_count": null,
   "id": "1d6d1a09",
   "metadata": {},
   "outputs": [],
   "source": [
    "data = pd.read_csv(\"Data/Polished/lineup_accumulated_data.csv\")\n",
    "X = data.loc[0:-1]\n",
    "y = data.loc[-1]"
   ]
  },
  {
   "cell_type": "code",
   "execution_count": null,
   "id": "277158dd",
   "metadata": {},
   "outputs": [],
   "source": [
    "X_train, X_test, y_train, y_test = train_test_split(X, y, test_size=0.2, random_state=42)"
   ]
  },
  {
   "cell_type": "code",
   "execution_count": null,
   "id": "67d43d12",
   "metadata": {},
   "outputs": [],
   "source": [
    "#hyperparameter tuning\n",
    "param_grid = {'alpha': [0.1, 1.0, 10.0]}  \n",
    "ridge = Ridge()\n",
    "ridge_cv = GridSearchCV(ridge, param_grid, scoring='neg_mean_squared_error', cv=5)\n",
    "ridge_cv.fit(X_train, y_train)\n",
    "best_alpha = ridge_cv.best_params_['alpha']"
   ]
  },
  {
   "cell_type": "code",
   "execution_count": null,
   "id": "f6b2b265",
   "metadata": {},
   "outputs": [],
   "source": [
    "# Train the final model with the best alpha\n",
    "final_ridge_model = Ridge(alpha=best_alpha)\n",
    "final_ridge_model.fit(X_train, y_train)\n",
    "\n",
    "# Make predictions on the test set\n",
    "y_pred = final_ridge_model.predict(X_test)\n",
    "\n",
    "# Evaluate the final model\n",
    "mse = mean_squared_error(y_test, y_pred)\n",
    "print(f'Best Alpha: {best_alpha}')\n",
    "print(f'Mean Squared Error: {mse}')\n",
    "\n",
    "# Get the coefficients (player impacts)\n",
    "player_impacts = final_ridge_model.coef_\n",
    "print('Player Impacts:')\n",
    "print(player_impacts)"
   ]
  }
 ],
 "metadata": {
  "kernelspec": {
   "display_name": "Python 3",
   "language": "python",
   "name": "python3"
  },
  "language_info": {
   "codemirror_mode": {
    "name": "ipython",
    "version": 3
   },
   "file_extension": ".py",
   "mimetype": "text/x-python",
   "name": "python",
   "nbconvert_exporter": "python",
   "pygments_lexer": "ipython3",
   "version": "3.11.4"
  }
 },
 "nbformat": 4,
 "nbformat_minor": 5
}
